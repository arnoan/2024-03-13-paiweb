{
 "cells": [
  {
   "cell_type": "markdown",
   "id": "02ae537b-c08c-498b-af79-591bb5fea749",
   "metadata": {},
   "source": [
    "## Langchain for building LLM systems"
   ]
  },
  {
   "cell_type": "markdown",
   "id": "479a9e2a-1af1-4728-8684-fde813567f75",
   "metadata": {},
   "source": [
    "To obtain configuration from an `.env` file we use `python-dotenv`"
   ]
  },
  {
   "cell_type": "code",
   "execution_count": 1,
   "id": "8644edb6-1b6d-47e1-8127-5cb131660ee9",
   "metadata": {},
   "outputs": [],
   "source": [
    "import dotenv"
   ]
  },
  {
   "cell_type": "code",
   "execution_count": 2,
   "id": "8dc9c3b7-c50c-4bf8-90c7-d35346704099",
   "metadata": {},
   "outputs": [
    {
     "data": {
      "text/plain": [
       "True"
      ]
     },
     "execution_count": 2,
     "metadata": {},
     "output_type": "execute_result"
    }
   ],
   "source": [
    "dotenv.load_dotenv()"
   ]
  },
  {
   "cell_type": "code",
   "execution_count": 3,
   "id": "72bb9b51-e8db-49db-bca5-e842c3306c1f",
   "metadata": {},
   "outputs": [],
   "source": [
    "import os"
   ]
  },
  {
   "cell_type": "code",
   "execution_count": 7,
   "id": "07fd166a-d449-4fa0-954f-ac6ae5a2bff0",
   "metadata": {},
   "outputs": [],
   "source": [
    "key = os.getenv(\"OPENAI_API_KEY\")"
   ]
  },
  {
   "cell_type": "code",
   "execution_count": 8,
   "id": "f01d33ed-2cb8-422d-9253-0f8c1192873a",
   "metadata": {},
   "outputs": [
    {
     "data": {
      "text/plain": [
       "'sk-BZ'"
      ]
     },
     "execution_count": 8,
     "metadata": {},
     "output_type": "execute_result"
    }
   ],
   "source": [
    "key[:5]"
   ]
  },
  {
   "cell_type": "code",
   "execution_count": 16,
   "id": "091a04b9-a742-4875-a474-b34b9804374e",
   "metadata": {},
   "outputs": [],
   "source": [
    "from langchain_openai import ChatOpenAI\n",
    "# from langchain_openai.llms import OpenAI"
   ]
  },
  {
   "cell_type": "code",
   "execution_count": 17,
   "id": "0bedf998-96ca-4166-a194-a76cb0d64869",
   "metadata": {},
   "outputs": [],
   "source": [
    "model = ChatOpenAI()"
   ]
  },
  {
   "cell_type": "code",
   "execution_count": 11,
   "id": "3b3cf507-bce9-445a-9578-3745c3eac631",
   "metadata": {},
   "outputs": [
    {
     "data": {
      "text/plain": [
       "AIMessage(content='Hello! How may I assist you today?', response_metadata={'finish_reason': 'stop', 'logprobs': None})"
      ]
     },
     "execution_count": 11,
     "metadata": {},
     "output_type": "execute_result"
    }
   ],
   "source": [
    "model.invoke(\"Say hello\")"
   ]
  },
  {
   "cell_type": "code",
   "execution_count": 18,
   "id": "28a55108-c9d4-4c79-8b1e-4c9c67672013",
   "metadata": {},
   "outputs": [],
   "source": [
    "# print(OpenAI().invoke(\"ping\"))"
   ]
  },
  {
   "cell_type": "code",
   "execution_count": 19,
   "id": "01a47160-6457-4a87-857f-7745831d6902",
   "metadata": {},
   "outputs": [],
   "source": [
    "from langchain.prompts import ChatPromptTemplate"
   ]
  },
  {
   "cell_type": "code",
   "execution_count": 20,
   "id": "ab379c3c-5a71-4860-8125-0cf430fdd810",
   "metadata": {},
   "outputs": [],
   "source": [
    "prompt = ChatPromptTemplate.from_template(\"\"\"\n",
    "Tell me a joke about {topic}\n",
    "\"\"\")"
   ]
  },
  {
   "cell_type": "code",
   "execution_count": 21,
   "id": "d747c5b2-84ce-465a-8212-8e8083976538",
   "metadata": {},
   "outputs": [
    {
     "data": {
      "text/plain": [
       "'The number is 42'"
      ]
     },
     "execution_count": 21,
     "metadata": {},
     "output_type": "execute_result"
    }
   ],
   "source": [
    "x = 42\n",
    "f\"The number is {x}\""
   ]
  },
  {
   "cell_type": "code",
   "execution_count": 23,
   "id": "d5c52061-e5af-4518-add0-bec817b93c51",
   "metadata": {},
   "outputs": [
    {
     "data": {
      "text/plain": [
       "ChatPromptValue(messages=[HumanMessage(content='\\nTell me a joke about cats\\n')])"
      ]
     },
     "execution_count": 23,
     "metadata": {},
     "output_type": "execute_result"
    }
   ],
   "source": [
    "prompt.invoke({\"topic\":\"cats\"})"
   ]
  },
  {
   "cell_type": "code",
   "execution_count": 24,
   "id": "641db179-2f5a-4b83-92c8-7c3a5e016af3",
   "metadata": {},
   "outputs": [
    {
     "data": {
      "text/plain": [
       "AIMessage(content='Why was the cat sitting on the computer? \\nBecause it wanted to keep an eye on the mouse!', response_metadata={'finish_reason': 'stop', 'logprobs': None})"
      ]
     },
     "execution_count": 24,
     "metadata": {},
     "output_type": "execute_result"
    }
   ],
   "source": [
    "model.invoke(prompt.invoke({\"topic\":\"cats\"}))"
   ]
  },
  {
   "cell_type": "markdown",
   "id": "a5af058e-cb24-4304-a3a1-d084187742b4",
   "metadata": {},
   "source": [
    "LCEL: LangCHain Expression Language"
   ]
  },
  {
   "cell_type": "code",
   "execution_count": 26,
   "id": "c8caa035-e8fd-41d1-a958-7421059080fd",
   "metadata": {},
   "outputs": [],
   "source": [
    "chain = prompt | model"
   ]
  },
  {
   "cell_type": "code",
   "execution_count": 28,
   "id": "5d5adefc-36ed-42a4-9806-c65db379177b",
   "metadata": {},
   "outputs": [
    {
     "data": {
      "text/plain": [
       "AIMessage(content='Why was the cat sitting on the computer?\\n\\nBecause it wanted to keep an eye on the mouse!', response_metadata={'finish_reason': 'stop', 'logprobs': None})"
      ]
     },
     "execution_count": 28,
     "metadata": {},
     "output_type": "execute_result"
    }
   ],
   "source": [
    "chain.invoke({\"topic\":\"cat\"})"
   ]
  },
  {
   "cell_type": "code",
   "execution_count": 31,
   "id": "8aecaca5-1a6b-49fd-aa53-179c471595ec",
   "metadata": {},
   "outputs": [],
   "source": [
    "# !ls | grep requi | wc -l"
   ]
  },
  {
   "cell_type": "code",
   "execution_count": 38,
   "id": "b0a8fb83-48ce-4008-9424-54fe94c0c872",
   "metadata": {},
   "outputs": [],
   "source": [
    "from langchain.schema import StrOutputParser\n",
    "\n",
    "llm_response_to_text = StrOutputParser()"
   ]
  },
  {
   "cell_type": "code",
   "execution_count": 39,
   "id": "026bdd8a-0be2-4896-a333-9e1b49888899",
   "metadata": {},
   "outputs": [],
   "source": [
    "chain2 = prompt | model | llm_response_to_text"
   ]
  },
  {
   "cell_type": "code",
   "execution_count": 40,
   "id": "f4f766d8-b454-42f1-a919-518fd62aafbe",
   "metadata": {},
   "outputs": [],
   "source": [
    "chain_with_str_output = chain | llm_response_to_text"
   ]
  },
  {
   "cell_type": "code",
   "execution_count": 41,
   "id": "5088d4b1-1c07-4d83-9b0a-0cd7ea7b7ace",
   "metadata": {},
   "outputs": [
    {
     "data": {
      "text/plain": [
       "'Why did the tea bag go to school?\\nBecause it wanted to be steeped in knowledge!'"
      ]
     },
     "execution_count": 41,
     "metadata": {},
     "output_type": "execute_result"
    }
   ],
   "source": [
    "chain2.invoke({\"topic\": \"tea\"})"
   ]
  },
  {
   "cell_type": "markdown",
   "id": "d0c8e06c-149a-47aa-beb7-99df7c6e20ea",
   "metadata": {},
   "source": [
    "ipynb: interactive python notebook"
   ]
  },
  {
   "cell_type": "code",
   "execution_count": 47,
   "id": "3bb3b459-6745-4ea4-a36f-f027b4bb40cd",
   "metadata": {},
   "outputs": [
    {
     "name": "stdout",
     "output_type": "stream",
     "text": [
      "In the heart of the Netherlands lies a city so grand\n",
      "Arnhem, where history and beauty intertwine hand in hand\n",
      "With its charming streets and ancient buildings so tall\n",
      "This city has a story, waiting for all to recall\n",
      "\n",
      "From the ruins of World War II to the bustling market square\n",
      "Arnhem's past is everywhere, in the very air\n",
      "The John Frost Bridge, a symbol of bravery and strife\n",
      "Where soldiers fought valiantly, giving up their life\n",
      "\n",
      "But Arnhem is more than just a place of war\n",
      "It's a city of culture, of art, of so much more\n",
      "The museums and galleries, the parks and gardens too\n",
      "All waiting to be explored by me and you\n",
      "\n",
      "So let us wander through the streets of Arnhem with glee\n",
      "And discover the magic that this city holds for you and me\n",
      "For in its cobblestone alleys and historic sites\n",
      "We'll find a piece of history that forever ignites."
     ]
    }
   ],
   "source": [
    "for token in model.stream(\"Please write a poem that is at least 100 words about Arnhem\"):\n",
    "    print(token.content, end=\"\")"
   ]
  },
  {
   "cell_type": "code",
   "execution_count": 49,
   "id": "2305c6f6-bc8d-43a8-b548-3c167ae1201b",
   "metadata": {},
   "outputs": [],
   "source": [
    "prompt_multiple = ChatPromptTemplate.from_template(\"\"\"\n",
    "Question: What are the most famous {topic}\n",
    "\n",
    "in {country}?\n",
    "\n",
    "Reponse:\n",
    "\"\"\")"
   ]
  },
  {
   "cell_type": "code",
   "execution_count": 52,
   "id": "49eaffc0-dfd6-406c-bded-00be8c90b9ee",
   "metadata": {},
   "outputs": [],
   "source": [
    "chain3 = prompt_multiple | model | llm_response_to_text"
   ]
  },
  {
   "cell_type": "code",
   "execution_count": 53,
   "id": "2f43a774-d1f4-4bd0-a7dd-bbc950383b53",
   "metadata": {},
   "outputs": [
    {
     "data": {
      "text/plain": [
       "['Some of the most famous meals in Germany include:\\n\\n1. Schnitzel - a breaded and fried meat cutlet, usually made with pork or veal.\\n2. Bratwurst - a type of German sausage, typically made with pork and seasoned with spices.\\n3. Sauerkraut - fermented cabbage that is commonly served as a side dish.\\n4. Pretzels - a type of baked bread product that is twisted into a knot shape.\\n5. Currywurst - a popular street food consisting of sliced sausage topped with curry ketchup.\\n6. Rouladen - thinly sliced beef rolled up with bacon, onions, and pickles, then cooked in a rich gravy.\\n7. Kartoffelsalat - a traditional German potato salad made with vinegar, oil, and mustard dressing.\\n8. Sauerbraten - a pot roast marinated in a mixture of vinegar, water, and spices, then slow-cooked until tender.\\n9. Black Forest Cake - a rich chocolate cake layered with cherries and whipped cream, often topped with chocolate shavings.\\n10. Käsespätzle - a German pasta dish made with egg noodles, cheese, and caramelized onions.',\n",
       " 'Some of the most famous actors in America include Tom Hanks, Meryl Streep, Denzel Washington, Leonardo DiCaprio, Jennifer Lawrence, Brad Pitt, Angelina Jolie, Sandra Bullock, Will Smith, and Julia Roberts.',\n",
       " 'Some of the most famous musicians in the Netherlands include DJ Tiësto, Martin Garrix, Armin van Buuren, Afrojack, and Hardwell.']"
      ]
     },
     "execution_count": 53,
     "metadata": {},
     "output_type": "execute_result"
    }
   ],
   "source": [
    "chain3.batch(\n",
    "    [\n",
    "        {\"topic\":\"meals\",\n",
    "        \"country\":\"Germany\"},\n",
    "        \n",
    "        {\"topic\":\"actors\",\n",
    "        \"country\":\"America\"},\n",
    "        \n",
    "        {\"topic\":\"musicians\",\n",
    "        \"country\":\"Netherlands\"}\n",
    "        \n",
    "    ]\n",
    "    \n",
    ")"
   ]
  },
  {
   "cell_type": "markdown",
   "id": "f5b1c57f-9100-42f7-86e9-c50b9b956b8b",
   "metadata": {},
   "source": [
    "RAG Example"
   ]
  },
  {
   "cell_type": "code",
   "execution_count": 54,
   "id": "784db785-5712-4340-93eb-cc244a0dc902",
   "metadata": {},
   "outputs": [],
   "source": [
    "from langchain_openai import OpenAIEmbeddings"
   ]
  },
  {
   "cell_type": "code",
   "execution_count": 57,
   "id": "5d7d704a-6d98-4490-8a03-40b224f90dcf",
   "metadata": {},
   "outputs": [],
   "source": [
    "from langchain.vectorstores import Chroma"
   ]
  },
  {
   "cell_type": "code",
   "execution_count": 62,
   "id": "59a0f0a9-2fc9-448d-9f8b-d37294cf3c89",
   "metadata": {},
   "outputs": [],
   "source": [
    "vectordb = Chroma.from_texts(texts=[\n",
    "    \"Arno likes walks in nature\",\n",
    "    \"The weather in Arnhem is rainy\",\n",
    "    \"Reading is an activity that Jasper enjoys\",\n",
    "    \"Kuba is a big fan of dungeons and dragons\",\n",
    "    \"The sky is red\",\n",
    "] , collection_name=\"demo\" , embedding=OpenAIEmbeddings())"
   ]
  },
  {
   "cell_type": "code",
   "execution_count": 63,
   "id": "abe3ccb3-facf-471e-ac1b-3023e49dc9fd",
   "metadata": {},
   "outputs": [],
   "source": [
    "retriever = vectordb.as_retriever(search_kwargs={\"k\":1})"
   ]
  },
  {
   "cell_type": "code",
   "execution_count": 65,
   "id": "c373c534-b6c1-48eb-a4a9-bb10cc04086f",
   "metadata": {},
   "outputs": [
    {
     "data": {
      "text/plain": [
       "[Document(page_content='The weather in Arnhem is rainy')]"
      ]
     },
     "execution_count": 65,
     "metadata": {},
     "output_type": "execute_result"
    }
   ],
   "source": [
    "retriever.invoke(\"Bewölkt\")"
   ]
  },
  {
   "cell_type": "markdown",
   "id": "8bb19ef8-b675-4a66-a910-92bd4851aff4",
   "metadata": {},
   "source": []
  },
  {
   "cell_type": "code",
   "execution_count": null,
   "id": "8c9325dc-7213-4940-8880-3cb1eb87c050",
   "metadata": {},
   "outputs": [],
   "source": []
  },
  {
   "cell_type": "code",
   "execution_count": null,
   "id": "4da9f245-ede8-431c-8388-1888192c7392",
   "metadata": {},
   "outputs": [],
   "source": []
  },
  {
   "cell_type": "code",
   "execution_count": null,
   "id": "b34c554b-672f-4e9a-94ba-90db3b8e3271",
   "metadata": {},
   "outputs": [],
   "source": []
  },
  {
   "cell_type": "code",
   "execution_count": null,
   "id": "451ba84b-7d9a-44c0-80d7-3527ba883c73",
   "metadata": {},
   "outputs": [],
   "source": []
  },
  {
   "cell_type": "code",
   "execution_count": null,
   "id": "de0558ca-6676-4424-8518-30c015fc8866",
   "metadata": {},
   "outputs": [],
   "source": []
  },
  {
   "cell_type": "code",
   "execution_count": null,
   "id": "bcb5fd7f-dd42-481a-a80b-709c9c9d1891",
   "metadata": {},
   "outputs": [],
   "source": []
  },
  {
   "cell_type": "code",
   "execution_count": null,
   "id": "e03b6ae8-e500-4ab9-a8cb-0a8076228c6a",
   "metadata": {},
   "outputs": [],
   "source": []
  },
  {
   "cell_type": "code",
   "execution_count": null,
   "id": "c0c97a58-fd8d-45fd-958d-018931d38646",
   "metadata": {},
   "outputs": [],
   "source": []
  },
  {
   "cell_type": "code",
   "execution_count": null,
   "id": "5ea191e4-444f-4848-a875-4898c3ee719a",
   "metadata": {},
   "outputs": [],
   "source": []
  },
  {
   "cell_type": "code",
   "execution_count": 42,
   "id": "8a521f84-dbcf-4522-abbb-6c991838bb33",
   "metadata": {},
   "outputs": [],
   "source": [
    "MY_NUMBER = 42"
   ]
  },
  {
   "cell_type": "code",
   "execution_count": 43,
   "id": "be95c723-7d98-4903-8d09-ffb2afbfd15f",
   "metadata": {},
   "outputs": [],
   "source": [
    "class Jasper():\n",
    "    def __init__(self, favorite_color=None):\n",
    "        self.color = favorite_color"
   ]
  },
  {
   "cell_type": "code",
   "execution_count": 45,
   "id": "c42efbd0-fbb9-4eff-b200-4a923aa96c9f",
   "metadata": {},
   "outputs": [],
   "source": [
    "jasper_1 = Jasper(\"black\")"
   ]
  },
  {
   "cell_type": "code",
   "execution_count": null,
   "id": "3021e925-34b4-455b-9c30-bc5560cd7f01",
   "metadata": {},
   "outputs": [],
   "source": []
  }
 ],
 "metadata": {
  "kernelspec": {
   "display_name": "Python 3 (ipykernel)",
   "language": "python",
   "name": "python3"
  },
  "language_info": {
   "codemirror_mode": {
    "name": "ipython",
    "version": 3
   },
   "file_extension": ".py",
   "mimetype": "text/x-python",
   "name": "python",
   "nbconvert_exporter": "python",
   "pygments_lexer": "ipython3",
   "version": "3.11.5"
  }
 },
 "nbformat": 4,
 "nbformat_minor": 5
}
